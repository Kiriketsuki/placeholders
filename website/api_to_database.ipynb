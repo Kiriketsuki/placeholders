{
 "cells": [
  {
   "cell_type": "code",
   "execution_count": 2,
   "metadata": {},
   "outputs": [],
   "source": [
    "import requests\n",
    "import json\n",
    "import csv\n",
    "import pprint\n",
    "import pandas as pd\n",
    "from sqlalchemy import create_engine\n",
    "import random"
   ]
  },
  {
   "cell_type": "code",
   "execution_count": 3,
   "metadata": {},
   "outputs": [],
   "source": [
    "json = requests.get(\"https://data.gov.sg/api/action/datastore_search?resource_id=f1765b54-a209-4718-8d38-a39237f502b3&limit=109671\").json()\n",
    "json_df = pd.DataFrame(json)\n",
    "data = pd.DataFrame(json_df[\"result\"][\"records\"])"
   ]
  },
  {
   "cell_type": "code",
   "execution_count": 3,
   "metadata": {},
   "outputs": [
    {
     "data": {
      "text/plain": [
       "105789"
      ]
     },
     "execution_count": 3,
     "metadata": {},
     "output_type": "execute_result"
    }
   ],
   "source": [
    "data.shape[0]"
   ]
  },
  {
   "cell_type": "code",
   "execution_count": 4,
   "metadata": {},
   "outputs": [],
   "source": [
    "image_path = []\n",
    "for i in range(data.shape[0]):\n",
    "    # TODO make this random\n",
    "    if i % 4 == 0:\n",
    "        path = \"static\\\\assets\\\\buildings_images\\\\database_image_4.jpg\"\n",
    "    elif i % 3 == 0:\n",
    "        path = \"static\\\\assets\\\\buildings_images\\\\database_image_3.jpg\"\n",
    "    elif i % 2 == 0:\n",
    "        path = \"static\\\\assets\\\\buildings_images\\\\database_image_2.jpg\"\n",
    "    elif i % 2 == 0:\n",
    "        path = \"static\\\\assets\\\\buildings_images\\\\database_image_1.jpg\"\n",
    "    else:\n",
    "        path = \"static\\\\assets\\\\buildings_images\\\\database_image_0.jpg\"\n",
    "\n",
    "    image_path.append(path)\n",
    "data['image_path'] = image_path"
   ]
  },
  {
   "cell_type": "code",
   "execution_count": 10,
   "metadata": {},
   "outputs": [],
   "source": [
    "data.to_csv(\"gov_data.csv\", index = False)"
   ]
  },
  {
   "cell_type": "code",
   "execution_count": 13,
   "metadata": {},
   "outputs": [
    {
     "data": {
      "text/plain": [
       "Engine(sqlite:///test.db)"
      ]
     },
     "execution_count": 13,
     "metadata": {},
     "output_type": "execute_result"
    }
   ],
   "source": []
  },
  {
   "cell_type": "code",
   "execution_count": null,
   "metadata": {},
   "outputs": [],
   "source": []
  },
  {
   "cell_type": "code",
   "execution_count": null,
   "metadata": {},
   "outputs": [],
   "source": []
  }
 ],
 "metadata": {
  "interpreter": {
   "hash": "c9bbbe4d64e0f0653c5bfb1b2e8b0c61249e8b0a940ba6d3db7c54bb7e4b468b"
  },
  "kernelspec": {
   "display_name": "Python 3.8.5 64-bit ('base': conda)",
   "name": "python3"
  },
  "language_info": {
   "codemirror_mode": {
    "name": "ipython",
    "version": 3
   },
   "file_extension": ".py",
   "mimetype": "text/x-python",
   "name": "python",
   "nbconvert_exporter": "python",
   "pygments_lexer": "ipython3",
   "version": "3.8.5"
  },
  "orig_nbformat": 4
 },
 "nbformat": 4,
 "nbformat_minor": 2
}
